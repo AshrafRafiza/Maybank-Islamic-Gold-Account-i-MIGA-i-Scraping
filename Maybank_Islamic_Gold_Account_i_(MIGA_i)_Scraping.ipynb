{
  "nbformat": 4,
  "nbformat_minor": 0,
  "metadata": {
    "colab": {
      "provenance": [],
      "authorship_tag": "ABX9TyPrGwk7Qiuvuw7W4z/jjbWS",
      "include_colab_link": true
    },
    "kernelspec": {
      "name": "python3",
      "display_name": "Python 3"
    },
    "language_info": {
      "name": "python"
    }
  },
  "cells": [
    {
      "cell_type": "markdown",
      "metadata": {
        "id": "view-in-github",
        "colab_type": "text"
      },
      "source": [
        "<a href=\"https://colab.research.google.com/github/AshrafRafiza/Maybank-Islamic-Gold-Account-i-MIGA-i-Scraping/blob/main/Maybank_Islamic_Gold_Account_i_(MIGA_i)_Scraping.ipynb\" target=\"_parent\"><img src=\"https://colab.research.google.com/assets/colab-badge.svg\" alt=\"Open In Colab\"/></a>"
      ]
    },
    {
      "cell_type": "code",
      "execution_count": 1,
      "metadata": {
        "id": "DuWBlGzAb8XS"
      },
      "outputs": [],
      "source": [
        "import urllib.request\n",
        "from bs4 import BeautifulSoup as bs\n",
        "import re\n",
        "import pandas as pd"
      ]
    },
    {
      "cell_type": "code",
      "source": [
        "from urllib.parse import urlencode\n",
        "\n",
        "import requests\n",
        "from bs4 import BeautifulSoup"
      ],
      "metadata": {
        "id": "hHhUxDWicD5v"
      },
      "execution_count": 2,
      "outputs": []
    },
    {
      "cell_type": "code",
      "source": [
        "#load html code from a url\n",
        "api_url = \"https://www.maybank2u.com.my/maybank2u/malaysia/en/personal/rates/gold_and_silver.page\"\n",
        "\n",
        "headers = {\n",
        "    \"user-agent\": \"Mozilla/5.0 (X11; Linux x86_64) AppleWebKit/537.36 (KHTML, like Gecko) Chrome/86.0.4240.183 Safari/537.36\",\n",
        "    \"x-requested-with\": \"XMLHttpRequest\",\n",
        "}\n",
        "\n",
        "page = requests.get(f\"{api_url}\", headers).text\n",
        "print(page)"
      ],
      "metadata": {
        "id": "p5mBmWOAgGPz",
        "colab": {
          "base_uri": "https://localhost:8080/"
        },
        "outputId": "82540489-8b3f-4c78-80ea-08be78d91f2f"
      },
      "execution_count": 3,
      "outputs": [
        {
          "output_type": "stream",
          "name": "stdout",
          "text": [
            "<html>\n",
            "<head>\n",
            "<META http-equiv=\"Content-Type\" content=\"text/html; charset=UTF-8\">\n",
            "<title>Gold & Silver Counter Rates  | Maybank Malaysia</title>\n",
            "<!--grid-layout-->\n",
            "<!--ls:begin[stylesheet]-->\n",
            "<style type=\"text/css\">\n",
            "          \n",
            "          .iw_container\n",
            "          {\n",
            "            max-width:800px !important;\n",
            "            margin-left: auto !important;\n",
            "            margin-right: auto !important;\n",
            "          }\n",
            "          .iw_stretch\n",
            "          {\n",
            "            min-width: 100% !important;\n",
            "          }\n",
            "        </style>\n",
            "<link href=\"/iwov-resources/grid/bootstrap.css\" type=\"text/css\" rel=\"stylesheet\">\n",
            "<!--ls:end[stylesheet]-->\n",
            "<!--ls:begin[meta-keywords]-->\n",
            "<meta name=\"keywords\" content=\"Maybank,Maybank Malaysia,Maybank Rates,Maybank2u,Online Banking,Internet Banking,Rates,Gold,Silver,gold counter rates,silver counter rates,maybank counter rates\">\n",
            "<!--ls:end[meta-keywords]-->\n",
            "<!--ls:begin[meta-description]-->\n",
            "<meta name=\"description\" content=\"Rates for Kijang Emas, Maybank Gold Investment Account and Maybank Silver Investment Account\">\n",
            "<!--ls:end[meta-description]-->\n",
            "<!--ls:begin[custom-meta-data]-->\n",
            "<meta name=\"og:image\" content=\"https://www.maybank.com/iwov-resources/images/meta-logo.jpg\">\n",
            "<meta name=\"viewport\" content=\"width=device-width, initial-scale=1.0, maximum-scale=1.0\">\n",
            "<!--ls:end[custom-meta-data]-->\n",
            "<!--ls:begin[meta-vpath]-->\n",
            "<meta name=\"vpath\" content=\"\">\n",
            "<!--ls:end[meta-vpath]-->\n",
            "<!--ls:begin[meta-page-locale-name]-->\n",
            "<meta name=\"page-locale-name\" content=\"\">\n",
            "<!--ls:end[meta-page-locale-name]-->\n",
            "<!--ls:begin[script]-->\n",
            "<script type=\"text/javascript\" src=\"/iwov-resources/js/modernizr-min.js\" data-tg-desktop_or_tablet_or_phone=\"show\"></script>\n",
            "<!--ls:end[script]-->\n",
            "<!--ls:begin[script]--><script type=\"text/javascript\" src=\"/iwov-resources/js/libs-min.js\" data-tg-desktop_or_tablet_or_phone=\"show\"></script>\n",
            "<!--ls:end[script]-->\n",
            "<!--ls:begin[script]--><script type=\"text/javascript\" src=\"/iwov-resources/js/l10n-min.js\" data-tg-desktop_or_tablet_or_phone=\"show\"></script>\n",
            "<!--ls:end[script]-->\n",
            "<!--ls:begin[script]--><script type=\"text/javascript\" src=\"/iwov-resources/js/m2u_optimizer-min.js\" data-tg-desktop_or_tablet_or_phone=\"show\"></script>\n",
            "<!--ls:end[script]-->\n",
            "<!--ls:begin[script]--><script type=\"text/javascript\" src=\"/iwov-resources/js/tagmanager-min.js\" data-tg-desktop_or_tablet_or_phone=\"show\"></script>\n",
            "<!--ls:end[script]-->\n",
            "<!--ls:begin[script]--><script type=\"text/javascript\" src=\"/iwov-resources/js/script.js\" data-tg-desktop_or_tablet_or_phone=\"show\"></script>\n",
            "<!--ls:end[script]-->\n",
            "<!--ls:begin[stylesheet]-->\n",
            "<link type=\"text/css\" href=\"/iwov-resources/css/libs-min.css\" rel=\"stylesheet\" data-tg-desktop_or_tablet_or_phone=\"show\">\n",
            "<!--ls:end[stylesheet]-->\n",
            "<!--ls:begin[stylesheet]-->\n",
            "<link type=\"text/css\" href=\"/iwov-resources/css/style.css\" rel=\"stylesheet\" data-tg-desktop_or_tablet_or_phone=\"show\">\n",
            "<!--ls:end[stylesheet]-->\n",
            "<!--ls:begin[stylesheet]-->\n",
            "<link type=\"text/css\" href=\"/iwov-resources/css/font-min.css\" rel=\"stylesheet\" data-tg-desktop_or_tablet_or_phone=\"show\">\n",
            "<!--ls:end[stylesheet]-->\n",
            "<!--ls:begin[stylesheet]-->\n",
            "<link type=\"text/css\" href=\"//fonts.googleapis.com/css?family=Lato:100,100i,300,300i,400,400i,700,700i,900,900i\" rel=\"stylesheet\" data-tg-desktop_or_tablet_or_phone=\"show\">\n",
            "<!--ls:end[stylesheet]-->\n",
            "<!--ls:begin[head-injection]--><!--ls:end[head-injection]--><!--ls:begin[tracker-injection]--><!--ls:end[tracker-injection]--><!--ls:begin[script]--><!--ls:end[script]--><!--ls:begin[script]--><!--ls:end[script]--></head>\n",
            "<body>\n",
            "<!--ls:begin[body]--><div class=\"iw_viewport-wrapper\"><div class=\"container-fluid iw_section\" id=\"sectionj7n4ka4o\"> \n",
            " <div class=\"row iw_row iw_stretch\" id=\"rowj7n4ka4p\"> \n",
            "  <div class=\"iw_columns col-lg-12\" id=\"colj7n4ka4q\"> \n",
            "   <div class=\"iw_component\" id=\"iw_comp1505554980935\">\n",
            "     <?xml version=\"1.0\" encoding=\"UTF-8\"?>\n",
            " \t\t\t\t\t\t\t\t\t\t\t\t\t\t\t\t\t\t\t\t\t\t\t<header id=\"header\" class=\"fixed-on-top\">\t<div class=\"row\">\t\t<div class=\"col-xs-5 col-sm-4\">\t\t\t<a href=\"https://www.maybank2u.com.my/home/m2u/common/login.do\" title=\"Maybank2u\" class=\"logo\">\t\t\t\t<img src=\"/iwov-resources/images/m2u_logo_black.png\" alt=\"Maybank2u\">\t\t\t</a>\t\t</div>\t\t<div class=\"col-xs-7 col-sm-8\">\t\t\t<div class=\"header-right\">\t\t\t\t<nav>\t\t\t\t\t<ul>\t\t\t\t\t\t\t\t\t\t\t\t\t\t\t\t\t\t\t<li \t\t\t\t\t\t\t\t\t\t\t\t\t\t\t\t\tclass=\"active\"\t\t\t\t\t\t\t\t\t\t\t\t\t\t\t>\t\t\t\t\t\t\t\t<a href=\"https://www.maybank2u.com.my/home/m2u/common/login.do\" \t\t\t\t\t\t\t\t\t\t\t\t\t\t\t\t\t\t\tclass=\"menu-link\"\t\t\t\t\t\t\t\t\t\t\t\t\t\t\t\t\t\ttitle=\"Personal\">Personal</a>\t\t\t\t\t\t\t</li>\t\t\t\t\t\t\t\t\t\t\t\t\t\t\t\t\t\t\t\t<li \t\t\t\t\t\t\t\t\t\t\t\t\t\t\t\t\tclass=\"visible-sm-up\"\t\t\t\t\t\t\t\t\t\t\t\t\t\t\t>\t\t\t\t\t\t\t\t<a href=\"https://www.maybank2u.com.my/maybank2u/malaysia/en/business/index.page\" \t\t\t\t\t\t\t\t\t\t\t\t\t\t\t\t\t\ttitle=\"Business\">Business</a>\t\t\t\t\t\t\t</li>\t\t\t\t\t\t\t\t\t\t\t\t\t\t\t\t\t\t\t\t\t\t\t\t</ul>\t\t\t\t\t<select name=\"quick-link-select\" class=\"hidden-sm-up\" onchange=\"document.location.href=this.value\">\t\t\t\t\t\t\t\t\t\t\t\t\t\t\t\t\t\t\t<option value=\"https://www.maybank2u.com.my/home/m2u/common/login.do\"\t\t\t\t\t\t\t\t\t\t\t\t\t\t\t\t\tselected\t\t\t\t\t\t\t\t\t\t\t\t\t\t\t>\t\t\t\t\t\t\t\tPersonal\t\t\t\t\t\t\t</option>\t\t\t\t\t\t\t\t\t\t\t\t\t\t\t\t\t\t\t\t<option value=\"https://www.maybank2u.com.my/maybank2u/malaysia/en/business/index.page\"\t\t\t\t\t\t\t\t\t\t\t\t\t\t\t>\t\t\t\t\t\t\t\tBusiness\t\t\t\t\t\t\t</option>\t\t\t\t\t\t\t\t\t\t\t\t\t\t\t\t\t\t</select>\t\t\t\t</nav>\t\t\t\t\t\t\t\t\t<ul>\t\t\t\t\t\t<li class=\"headQ\" style=\"padding:0 1.4em; font-size:1em; text-transform: uppercase;\">\t\t\t\t\t\t\t<a style=\"color:black;\" href=\"https://www.maybank2u.com.my/maybank2u/malaysia/en/personal/frequent_queries/m2u_first_time_registration/how_to_register_for_a_new_maybank2u_account.page\">\t\t\t\t\t\t\t\tHelp & Tips\t\t\t\t\t\t\t</a>\t\t\t\t\t\t</li>\t\t\t\t\t</ul>\t\t\t\t\t\t\t\t\t\t\t\t\t\t\t\t\t\t\t\t\t\t\t\t\t\t<a title=\"Register Now\" href=\"https://www.maybank2u.com.my/home/m2u/common/signup.do\" rel=\"external\"\t\t\t\t\t\t\t\t\t\t\t\t\t\t\t\t\tclass=\"icon icon-register hidden-xs hidden-sm\"\t\t\t\t\t\t\t\t\t\t\t\t\t\t\t></a>\t\t\t\t\t\t\t\t\t\t\t\t\t\t\t\t\t\t\t\t\t\t\t\t<a title=\"Login\" href=\"https://www.maybank2u.com.my/home/m2u/common/login.do\" rel=\"external\"\t\t\t\t\t\t\t\t\t\t\t\t\t\t\t\t\tclass=\"icon icon-login\"\t\t\t\t\t\t\t\t\t\t\t\t\t\t\t></a>\t\t\t\t\t\t\t\t\t\t\t\t\t\t\t\t\t\t\t\t\t\t\t\t\t\t\t\t\t<a href=\"javascript:void(0);\" title=\"\" class=\"icon icon-menu\" onclick=\"toogleMenu(true)\"></a>\t\t\t</div>\t\t</div>\t</div></header><div id=\"main-nav\">\t<div class=\"inner\">\t\t<header>\t\t\t\t\t\t\t\t\t\t\t\t\t\t\t\t\t\t<a class=\"btn btn-default\" title=\"Register Now\" href=\"https://www.maybank2u.com.my/home/m2u/common/signup.do\" rel=\"external\" >\t\t\t\t\t\t\t<i class=\"icon icon-register\"></i>\t\t\t\t\t\t\t<span>Register Now<span>\t\t\t\t\t\t</a>\t\t\t\t\t\t\t\t\t\t\t\t\t\t\t\t\t\t\t\t\t\t\t\t\t\t\t<a href=\"javascript:void(0);\" title=\"Close\" class=\"close\" onclick=\"toogleMenu(false)\"></a>\t\t</header>\t\t<ul id=\"nav\">\t\t\t\t\t\t\t\t\t\t\t\t\t\t\t<li>\t\t\t\t\t\t<a title=\"HOME\" href=\"https://www.maybank2u.com.my/home/m2u/common/login.do\" rel=\"external\"\t\t\t\t\t\t\t\t\t\t\t\t\t\t\tclass=\"active\"\t\t\t\t\t\t\t\t\t\t\t\t\t>\t\t\t\t\t\t\t<span>HOME</span>\t\t\t\t\t\t</a>\t\t\t\t\t</li>\t\t\t\t\t\t\t\t\t\t\t\t\t\t\t\t\t\t\t\t\t<li>\t\t\t\t\t\t<a title=\"PROMOTIONS\" href=\"/maybank2u/malaysia/en/personal/promotions/promotion_listing.page?\"\t\t\t\t\t\t\t\t\t\t\t\t\t>\t\t\t\t\t\t\t<span>PROMOTIONS</span>\t\t\t\t\t\t</a>\t\t\t\t\t</li>\t\t\t\t\t\t\t\t\t\t\t\t\t\t\t\t\t\t\t\t\t<li>\t\t\t\t\t\t<a title=\"Help &amp; Tips\" href=\"/maybank2u/malaysia/en/personal/frequent_queries/m2u_first_time_registration/how_to_register_for_a_new_maybank2u_account.page?\"\t\t\t\t\t\t\t\t\t\t\t\t\t>\t\t\t\t\t\t\t<span>Help & Tips</span>\t\t\t\t\t\t</a>\t\t\t\t\t</li>\t\t\t\t\t\t\t\t\t\t\t\t\t\t\t\t\t\t\t\t\t<li>\t\t\t\t\t\t<a title=\"ANNOUNCEMENTS\" href=\"/maybank2u/malaysia/en/personal/announcements/announcement_listing.page?\"\t\t\t\t\t\t\t\t\t\t\t\t\t>\t\t\t\t\t\t\t<span>ANNOUNCEMENTS</span>\t\t\t\t\t\t</a>\t\t\t\t\t</li>\t\t\t\t\t\t\t\t\t\t\t\t\t\t\t\t\t\t\t\t\t<li>\t\t\t\t\t\t<a title=\"LOCATE US\" href=\"/maybank2u/malaysia/en/personal/about_us/locate_maybank.page?\"\t\t\t\t\t\t\t\t\t\t\t\t\t>\t\t\t\t\t\t\t<span>LOCATE US</span>\t\t\t\t\t\t</a>\t\t\t\t\t</li>\t\t\t\t\t\t\t\t\t\t\t\t\t\t\t\t\t\t\t\t\t<li>\t\t\t\t\t\t<a title=\"BOOK EZYQ APPOINTMENT\" href=\"https://www.maybank2u.com.my/page/appointment/\" rel=\"external\"\t\t\t\t\t\t\t\t\t\t\t\t\t>\t\t\t\t\t\t\t<span>BOOK EZYQ APPOINTMENT</span>\t\t\t\t\t\t</a>\t\t\t\t\t</li>\t\t\t\t\t\t\t\t\t\t\t\t\t\t\t\t\t\t\t\t\t<li>\t\t\t\t\t\t<a title=\"CONTACT US\" href=\"/maybank2u/malaysia/en/personal/about_us/contact_us.page?\"\t\t\t\t\t\t\t\t\t\t\t\t\t>\t\t\t\t\t\t\t<span>CONTACT US</span>\t\t\t\t\t\t</a>\t\t\t\t\t</li>\t\t\t\t\t\t\t\t\t\t\t\t\t\t\t<li>\t\t\t\t\t\t\t\t\t\t<a title=\"TRADE ONLINE\" href=\"https://ost.maybank2u.com.my/mbbwecos/mbb_login.aspx\" target=\"_blank\">\t\t\t\t\t\t\t\t\t\t\t<span>TRADE ONLINE</span>\t\t\t\t\t\t\t\t\t\t</a>\t\t\t\t\t\t\t\t</li>\t\t</ul>\t\t\t\t\t<ul class=\"thumb-menu-list\">\t\t\t\t\t\t\t\t\t\t\t\t\t\t\t<li>\t\t\t\t\t\t\t<a title=\"MAYBANK PRIVILEGE\" href=\"https://www.maybank2u.com.my/maybank2u/malaysia/en/personal/privilege/privilege_landing.page\" rel=\"external\" >\t\t\t\t\t\t\t\t<img src=\"/iwov-resources/images/upload/side-aspire.jpg\" alt=\"MAYBANK PRIVILEGE\">\t\t\t\t\t\t\t\t<span>MAYBANK PRIVILEGE</span>\t\t\t\t\t\t\t</a>\t\t\t\t\t\t</li>\t\t\t\t\t\t\t\t\t\t\t\t\t\t\t\t\t\t\t\t<li>\t\t\t\t\t\t\t<a title=\"MAYBANK PREMIER\" href=\"http://www.maybankpremierwealth.com\" rel=\"external\" >\t\t\t\t\t\t\t\t<img src=\"/iwov-resources/images/upload/side_premier.jpg\" alt=\"MAYBANK PREMIER\">\t\t\t\t\t\t\t\t<span>MAYBANK PREMIER</span>\t\t\t\t\t\t\t</a>\t\t\t\t\t\t</li>\t\t\t\t\t\t\t\t\t\t\t\t\t\t\t\t\t\t\t\t<li>\t\t\t\t\t\t\t<a title=\"MAYBANK PRIVATE\" href=\"http://www.maybankprivatewealth.com\" rel=\"external\" >\t\t\t\t\t\t\t\t<img src=\"/iwov-resources/images/upload/side_private.jpg\" alt=\"MAYBANK PRIVATE\">\t\t\t\t\t\t\t\t<span>MAYBANK PRIVATE</span>\t\t\t\t\t\t\t</a>\t\t\t\t\t\t</li>\t\t\t\t\t\t\t\t\t\t\t\t\t\t\t\t\t\t\t\t<li>\t\t\t\t\t\t\t<a title=\"MAYBANK ISLAMIC\" href=\"https://www.maybank.com/islamic/\" rel=\"external\" >\t\t\t\t\t\t\t\t<img src=\"/iwov-resources/images/upload/mib.jpg\" alt=\"MAYBANK ISLAMIC\">\t\t\t\t\t\t\t\t<span>MAYBANK ISLAMIC</span>\t\t\t\t\t\t\t</a>\t\t\t\t\t\t</li>\t\t\t\t\t\t\t\t\t\t\t\t</ul>\t\t\t\t\t\t<div class=\"country-selection\">\t\t\t\t\t\t\t<a href=\"javascript:void(0);\" title=\"Malaysia\" id=\"choose-country\" onclick=\"toogleMenu(false)\">\t\t\t\t\t<img src=\"/iwov-resources/images/malaysia-icon.png\" alt=\"Malaysia\">\t\t\t\t\t<span>Malaysia</span>\t\t\t\t</a>\t\t\t\t\t</div>\t</div></div><div id=\"select-country\" class=\"modal hide\">\t<div class=\"inner width-2\">\t\t<div class=\"modal-header\">\t\t\t<a href=\"javascript:void(0);\" title=\"Close\" class=\"close\" data-dismiss=\"modal\"></a>\t\t\t<h3 class=\"modal-title\">Select Country</h3>\t\t</div>\t\t<div class=\"modal-body\">\t\t\t<ul class=\"list-country\">\t\t\t\t\t\t\t\t\t<li \t\t\t\t\t\t\t\t\t\t\t\t\tclass=\"active\"\t\t\t\t\t\t\t\t\t\t\t>\t\t\t\t\t\t<a title=\"Malaysia\" href=\"http://www.maybank2u.com.my\" rel=\"external\" >\t\t\t\t\t\t\t<img src=\"/iwov-resources/images/malaysia-icon.png\" alt=\"Malaysia\">\t\t\t\t\t\t\t<span>Malaysia</span>\t\t\t\t\t\t</a>\t\t\t\t\t</li>\t\t\t\t\t\t\t\t\t<li \t\t\t\t\t\t\t\t\t\t\t>\t\t\t\t\t\t<a title=\"Indonesia\" href=\"https://www.maybank.co.id\" rel=\"external\" >\t\t\t\t\t\t\t<img src=\"/iwov-resources/images/indonesia-icon.png\" alt=\"Indonesia\">\t\t\t\t\t\t\t<span>Indonesia</span>\t\t\t\t\t\t</a>\t\t\t\t\t</li>\t\t\t\t\t\t\t\t\t<li \t\t\t\t\t\t\t\t\t\t\t>\t\t\t\t\t\t<a title=\"Singapore\" href=\"http://www.maybank.com.sg\" rel=\"external\" >\t\t\t\t\t\t\t<img src=\"/iwov-resources/images/singapore-icon.png\" alt=\"Singapore\">\t\t\t\t\t\t\t<span>Singapore</span>\t\t\t\t\t\t</a>\t\t\t\t\t</li>\t\t\t\t\t\t\t\t\t<li \t\t\t\t\t\t\t\t\t\t\t>\t\t\t\t\t\t<a title=\"Philippines\" href=\"http://www.maybank.com.ph\" rel=\"external\" >\t\t\t\t\t\t\t<img src=\"/iwov-resources/images/philippines-icon.png\" alt=\"Philippines\">\t\t\t\t\t\t\t<span>Philippines</span>\t\t\t\t\t\t</a>\t\t\t\t\t</li>\t\t\t\t\t\t\t\t\t<li \t\t\t\t\t\t\t\t\t\t\t>\t\t\t\t\t\t<a title=\"Cambodia\" href=\"https://www.maybank2u.com.kh/\" rel=\"external\" >\t\t\t\t\t\t\t<img src=\"/iwov-resources/images/cambodia-icon.png\" alt=\"Cambodia\">\t\t\t\t\t\t\t<span>Cambodia</span>\t\t\t\t\t\t</a>\t\t\t\t\t</li>\t\t\t\t\t\t\t</ul>\t\t</div>\t</div></div><script type=\"text/javascript\">\tfunction toogleMenu(active) {\t\tif (active) {\t\t\t$('#main-nav').addClass('active');\t\t} else {\t\t\t$('#main-nav').removeClass('active');\t\t}\t}\t\t$('document').ready(function() {\t\tif ($('div.login-option.header-opt h3').length == 0)\t\t\t$('div.login-option.header-opt').css('display','none');\t\t});\t\t\t$(document).on('click',function(e) {\t\t$('#main-nav').removeClass('active');\t});</script><noscript><iframe src=\"https://www.googletagmanager.com/ns.html?id=GTM-KHWJN5G\"height=\"0\" width=\"0\" style=\"display:none;visibility:hidden\"></iframe></noscript> \n",
            "   </div> \n",
            "  </div> \n",
            " </div> \n",
            "</div> \n",
            "<div class=\"container-fluid iw_section\" id=\"sectionjoubcntw\"> \n",
            " <div class=\"row iw_row iw_stretch\" id=\"rowjoubcntx\"> \n",
            "  <div class=\"iw_columns col-lg-12\" id=\"coljoubcnty\"> \n",
            "   <div class=\"iw_component\" id=\"iw_comp1542994945699\">\n",
            "     <!--ls:begin[component-1542994945699]--><?xml version=\"1.0\" encoding=\"UTF-8\"?>\n",
            "  \t\t\t\t\t<div class=\"container\">\t<section class=\"inner-container\">\t\t\t\t\t<section class=\"secondary-header\">\t\t\t\t<div class=\"custom-link default\">\t\t\t\t\t<div class=\"custom-text\">\t\t\t\t\t\t<span class=\"text\">Gold & Silver Counter Rates</span>\t\t\t\t\t</div>\t\t\t\t\t<ul class=\"dropdown-menu hide\">\t\t\t\t\t\t\t\t\t\t\t\t\t\t\t\t\t\t\t\t\t\t\t\t\t\t\t\t\t\t\t\t\t\t\t\t\t\t\t\t\t\t\t\t\t\t\t\t\t\t\t\t\t\t\t\t\t\t\t\t\t\t\t\t\t\t\t\t\t\t\t\t\t<li\t\t\t\t\t\t\t\t\t\t\t\t\t\t\t\t\t>\t\t\t\t\t\t\t\t\t<a\t\t\t\t\t\t\t\t\t\t\t\t\t\t\t\t\t\t\t\t\thref=\"/maybank2u/malaysia/en/personal/rates/saving_account_rates.page?\"\t\t\t\t\t\t\t\t\t\t\t\t\t\t\t\t\t\t\t\ttitle=\"Savings Account Rates\"\t\t\t\t\t\t\t\t\t>\t\t\t\t\t\t\t\t\t\tSavings Account Rates\t\t\t\t\t\t\t\t\t</a>\t\t\t\t\t\t\t\t</li>\t\t\t\t\t\t\t\t\t\t\t\t\t\t\t\t\t\t\t\t\t\t\t\t\t\t\t\t<li\t\t\t\t\t\t\t\t\t\t\t\t\t\t\t\t\t>\t\t\t\t\t\t\t\t\t<a\t\t\t\t\t\t\t\t\t\t\t\t\t\t\t\t\t\t\t\t\thref=\"/maybank2u/malaysia/en/personal/rates/current_account_rates.page?\"\t\t\t\t\t\t\t\t\t\t\t\t\t\t\t\t\t\t\t\ttitle=\"Current Account Rates\"\t\t\t\t\t\t\t\t\t>\t\t\t\t\t\t\t\t\t\tCurrent Account Rates\t\t\t\t\t\t\t\t\t</a>\t\t\t\t\t\t\t\t</li>\t\t\t\t\t\t\t\t\t\t\t\t\t\t\t\t\t\t\t\t\t\t\t\t\t\t\t\t<li\t\t\t\t\t\t\t\t\t\t\t\t\t\t\t\t\t>\t\t\t\t\t\t\t\t\t<a\t\t\t\t\t\t\t\t\t\t\t\t\t\t\t\t\t\t\t\t\thref=\"/maybank2u/malaysia/en/personal/rates/fixed_deposit_account_rates.page?\"\t\t\t\t\t\t\t\t\t\t\t\t\t\t\t\t\t\t\t\ttitle=\"Fixed Deposit Account Rates\"\t\t\t\t\t\t\t\t\t>\t\t\t\t\t\t\t\t\t\tFixed Deposit Account Rates\t\t\t\t\t\t\t\t\t</a>\t\t\t\t\t\t\t\t</li>\t\t\t\t\t\t\t\t\t\t\t\t\t\t\t\t\t\t\t\t\t\t\t\t\t\t\t\t<li\t\t\t\t\t\t\t\t\t\t\t\t\t\t\t\t\t>\t\t\t\t\t\t\t\t\t<a\t\t\t\t\t\t\t\t\t\t\t\t\t\t\t\t\t\t\t\t\thref=\"/maybank2u/malaysia/en/personal/rates/foreign_account_currency_rates.page?\"\t\t\t\t\t\t\t\t\t\t\t\t\t\t\t\t\t\t\t\ttitle=\"Foreign Account Currency Rates\"\t\t\t\t\t\t\t\t\t>\t\t\t\t\t\t\t\t\t\tForeign Account Currency Rates\t\t\t\t\t\t\t\t\t</a>\t\t\t\t\t\t\t\t</li>\t\t\t\t\t\t\t\t\t\t\t\t\t\t\t\t\t\t\t\t\t\t\t\t\t\t\t\t<li\t\t\t\t\t\t\t\t\t\t\t\t\t\t\t\t\t\t\tclass=\"active\"\t\t\t\t\t\t\t\t\t\t\t\t\t\t\t\t\t>\t\t\t\t\t\t\t\t\t<a\t\t\t\t\t\t\t\t\t\t\t\t\t\t\t\t\t\t\t\t\thref=\"/maybank2u/malaysia/en/personal/rates/gold_and_silver.page?\"\t\t\t\t\t\t\t\t\t\t\t\t\t\t\t\t\t\t\t\ttitle=\"Gold &amp; Silver Counter Rates\"\t\t\t\t\t\t\t\t\t>\t\t\t\t\t\t\t\t\t\tGold & Silver Counter Rates\t\t\t\t\t\t\t\t\t</a>\t\t\t\t\t\t\t\t</li>\t\t\t\t\t\t\t\t\t\t\t\t\t\t\t\t\t\t\t\t\t\t\t\t\t\t\t\t<li\t\t\t\t\t\t\t\t\t\t\t\t\t\t\t\t\t>\t\t\t\t\t\t\t\t\t<a\t\t\t\t\t\t\t\t\t\t\t\t\t\t\t\t\t\t\t\t\thref=\"/maybank2u/malaysia/en/personal/rates/fund_rates.page?\"\t\t\t\t\t\t\t\t\t\t\t\t\t\t\t\t\t\t\t\ttitle=\"Funds Rates\"\t\t\t\t\t\t\t\t\t>\t\t\t\t\t\t\t\t\t\tFunds Rates\t\t\t\t\t\t\t\t\t</a>\t\t\t\t\t\t\t\t</li>\t\t\t\t\t\t\t\t\t\t\t\t\t\t\t\t\t\t\t\t\t\t\t\t\t\t\t\t<li\t\t\t\t\t\t\t\t\t\t\t\t\t\t\t\t\t>\t\t\t\t\t\t\t\t\t<a\t\t\t\t\t\t\t\t\t\t\t\t\t\t\t\t\t\t\t\t\thref=\"/maybank2u/malaysia/en/personal/rates/deposit_rates.page?\"\t\t\t\t\t\t\t\t\t\t\t\t\t\t\t\t\t\t\t\ttitle=\"Deposit Rates\"\t\t\t\t\t\t\t\t\t>\t\t\t\t\t\t\t\t\t\tDeposit Rates\t\t\t\t\t\t\t\t\t</a>\t\t\t\t\t\t\t\t</li>\t\t\t\t\t\t\t\t\t\t\t\t\t\t\t\t\t\t\t\t\t\t\t\t\t\t\t\t<li\t\t\t\t\t\t\t\t\t\t\t\t\t\t\t\t\t>\t\t\t\t\t\t\t\t\t<a\t\t\t\t\t\t\t\t\t\t\t\t\t\t\t\t\t\t\t\t\thref=\"/maybank2u/malaysia/en/personal/rates/derivatives_rates.page?\"\t\t\t\t\t\t\t\t\t\t\t\t\t\t\t\t\t\t\t\ttitle=\"Derivative Rates\"\t\t\t\t\t\t\t\t\t>\t\t\t\t\t\t\t\t\t\tDerivative Rates\t\t\t\t\t\t\t\t\t</a>\t\t\t\t\t\t\t\t</li>\t\t\t\t\t\t\t\t\t\t\t\t\t\t\t\t\t\t\t\t\t\t\t\t\t\t\t\t<li\t\t\t\t\t\t\t\t\t\t\t\t\t\t\t\t\t>\t\t\t\t\t\t\t\t\t<a\t\t\t\t\t\t\t\t\t\t\t\t\t\t\t\t\t\t\t\t\thref=\"/maybank2u/malaysia/en/personal/rates/financing_rates.page?\"\t\t\t\t\t\t\t\t\t\t\t\t\t\t\t\t\t\t\t\ttitle=\"Financing Rates\"\t\t\t\t\t\t\t\t\t>\t\t\t\t\t\t\t\t\t\tFinancing Rates\t\t\t\t\t\t\t\t\t</a>\t\t\t\t\t\t\t\t</li>\t\t\t\t\t\t\t\t\t\t\t\t\t\t\t\t\t\t\t\t\t\t\t\t\t\t\t\t<li\t\t\t\t\t\t\t\t\t\t\t\t\t\t\t\t\t>\t\t\t\t\t\t\t\t\t<a\t\t\t\t\t\t\t\t\t\t\t\t\t\t\t\t\t\t\t\t\thref=\"/maybank2u/malaysia/en/personal/rates/murabahah_rates.page?\"\t\t\t\t\t\t\t\t\t\t\t\t\t\t\t\t\t\t\t\ttitle=\"Murabahah Rates\"\t\t\t\t\t\t\t\t\t>\t\t\t\t\t\t\t\t\t\tMurabahah Rates\t\t\t\t\t\t\t\t\t</a>\t\t\t\t\t\t\t\t</li>\t\t\t\t\t\t\t\t\t\t\t\t\t\t\t\t\t\t\t\t\t\t\t\t\t\t\t\t<li\t\t\t\t\t\t\t\t\t\t\t\t\t\t\t\t\t>\t\t\t\t\t\t\t\t\t<a\t\t\t\t\t\t\t\t\t\t\t\t\t\t\t\t\t\t\t\t\thref=\"/maybank2u/malaysia/en/business/rates/fca_rates.page?\"\t\t\t\t\t\t\t\t\t\t\t\t\t\t\t\t\t\t\t\ttitle=\"FCA/MFCA Deposit Rates\"\t\t\t\t\t\t\t\t\t>\t\t\t\t\t\t\t\t\t\tFCA/MFCA Deposit Rates\t\t\t\t\t\t\t\t\t</a>\t\t\t\t\t\t\t\t</li>\t\t\t\t\t\t\t\t\t\t\t\t\t\t\t\t\t\t\t\t\t\t\t\t\t\t\t\t<li\t\t\t\t\t\t\t\t\t\t\t\t\t\t\t\t\t>\t\t\t\t\t\t\t\t\t<a\t\t\t\t\t\t\t\t\t\t\t\t\t\t\t\t\t\t\t\t\thref=\"/maybank2u/malaysia/en/personal/rates/forex_rates.page?\"\t\t\t\t\t\t\t\t\t\t\t\t\t\t\t\t\t\t\t\ttitle=\"Foreign Exchange Counter Rates\"\t\t\t\t\t\t\t\t\t>\t\t\t\t\t\t\t\t\t\tForeign Exchange Counter Rates\t\t\t\t\t\t\t\t\t</a>\t\t\t\t\t\t\t\t</li>\t\t\t\t\t\t\t\t\t\t\t\t\t\t\t\t\t\t\t\t\t\t\t\t\t\t\t\t<li\t\t\t\t\t\t\t\t\t\t\t\t\t\t\t\t\t>\t\t\t\t\t\t\t\t\t<a\t\t\t\t\t\t\t\t\t\t\t\t\t\t\t\t\t\t\t\t\thref=\"/maybank2u/malaysia/en/personal/rates/islamic-savings-account-rate.page?\"\t\t\t\t\t\t\t\t\t\t\t\t\t\t\t\t\t\t\t\ttitle=\"Islamic Savings Account Rates\"\t\t\t\t\t\t\t\t\t>\t\t\t\t\t\t\t\t\t\tIslamic Savings Account Rates\t\t\t\t\t\t\t\t\t</a>\t\t\t\t\t\t\t\t</li>\t\t\t\t\t\t\t\t\t\t\t\t\t\t\t\t\t\t\t\t\t\t\t\t\t\t\t\t<li\t\t\t\t\t\t\t\t\t\t\t\t\t\t\t\t\t>\t\t\t\t\t\t\t\t\t<a\t\t\t\t\t\t\t\t\t\t\t\t\t\t\t\t\t\t\t\t\thref=\"/maybank2u/malaysia/en/personal/rates/mudarabah_ia_rates.page?\"\t\t\t\t\t\t\t\t\t\t\t\t\t\t\t\t\t\t\t\ttitle=\"Mudharabah Investment Account Rates\"\t\t\t\t\t\t\t\t\t>\t\t\t\t\t\t\t\t\t\tMudharabah Investment Account Rates\t\t\t\t\t\t\t\t\t</a>\t\t\t\t\t\t\t\t</li>\t\t\t\t\t\t\t\t\t\t\t\t\t\t\t\t\t\t</ul>\t\t\t\t</div>\t\t\t</section>\t\t\t\t<main>\t\t\t<div class=\"item-product-detail\">\t\t\t\t<article class=\"intro small align-top\">\t\t\t\t\t<h2 class=\"title-primary\">Gold & Silver Counter Rates</h2>\t\t\t\t\t<p class=\"text-medium\">Rates for Kijang Emas, Maybank Gold Investment Account and Maybank Silver Investment Account</p>\t\t\t\t\t<hr class=\"yellow-line-large m-large\">\t\t\t\t\t<p>Disclaimer: Rates displayed are indicative for the day and subject to change without prior notice. For the latest Gold & Silver rates, please refer to your nearest Maybank branch.</p>\t\t\t\t</article>\t\t\t\t<article class=\"content item-rates\">\t\t\t\t\t<section>\t\t\t\t\t\t<div class=\"row\">\t\t\t\t\t\t\t\t\t\t\t\t<section>\t\t\t\t\t\t<div class=\"row\">\t\t\t\t\t\t\t\t\t\t\t\t\t\t\t\t\t\t\t\t\t\t<div class=\"col-sm-6\"><p class=\"text-medium black\">Maybank Gold Investment Account</p><div class=\"table-responsive\"><table class=\"table highlight\"><tr><th>Date</th><th>Selling (RM/g)</th><th>Buying (RM/g)</th></tr><td>13 Sep 2022</td><td>255.19</td><td>245.54</td></table><p class=\"text-small\">Effective on 13 Sep 2022 09:04 AM</p></div><p class=\"text-medium black p-top-50\">Kijang Emas Daily Prices</p><div class=\"table-responsive\"><table class=\"table highlight\"><tr><th>Size (oz)</th><th>Selling (RM)</th><th>Buying (RM)</th></tr><td>ONE</td><td>8,249.00</td><td>7,931.00</td></tr>\t\t\t\t\t\t\t  <tr><td>HALF</td><td>4,203.00</td><td>3,966.00</td></tr>\t\t\t\t\t\t\t  <tr><td>QUARTER</td><td>2,140.00</td><td>1,983.00</td></tr></table><p class=\"text-small\">Effective on 13 Sep 2022 09:04 AM</p></div></div><div class=\"col-sm-6\"><p class=\"text-medium black\">Maybank Silver Investment Account</p><div class=\"table-responsive\"><table class=\"table highlight\"><tr><th>Date</th><th>Selling (RM/g)</th><th>Buying (RM/g)</th></tr><td>13 Sep 2022</td><td>2.95</td><td>2.72</td></table><p class=\"text-small\">Effective on 13 Sep 2022 09:59 AM</p></div><p class=\"text-medium black p-top-50\">Maybank Islamic Gold Account-i (MIGA-i) </p><div class=\"table-responsive\"><table class=\"table highlight\"><tr><th>Date</th><th>Selling (RM/g)</th><th>Buying (RM/g)</th></tr><tr><td>For 100 grams and above</td><td>252.08</td><td>248.00</td></tr><tr><td>For below 100 grams </td><td>253.83</td><td>247.50</td></tr></table><p class=\"text-small\">Effective on 08 Sep 2022 08:46:29</p></div></div>\t\t\t\t\t\t\t\t\t\t\t\t\t</div>\t\t\t\t\t</section>\t\t\t\t</article>\t\t\t</div>\t\t</main>\t</section></div><!--ls:end[component-1542994945699]--> \n",
            "   </div> \n",
            "  </div> \n",
            " </div> \n",
            "</div> \n",
            "<div class=\"container-fluid iw_section\" id=\"sectionj7n4ka50\"> \n",
            " <div class=\"row iw_row iw_stretch\" id=\"rowj7n4ka51\"> \n",
            "  <div class=\"iw_columns col-lg-12\" id=\"colj7n4ka52\"> \n",
            "   <div class=\"iw_component\" id=\"iw_comp1505554980947\">\n",
            "     <!--ls:begin[component-1505554980947]--><?xml version=\"1.0\" encoding=\"UTF-8\"?>\n",
            "<footer id=\"footer\">\n",
            "  <section class=\"inner\">\n",
            "    \t\t\t\t\t\t\t\t\t\t\t\t\t\t\t\t\t<div class=\"top-footer\">\t\t\t<ol class=\"breadcrumb\">\t\t\t\t\t\t\t\t\t<li>\t\t\t\t\t\t<a \t\t\t\t\t\t\t\t\t\t\t\t\t\t\ttitle=\"Home\" href=\"https://www.maybank2u.com.my/home/m2u/common/login.do\" target=\"\"\t\t\t\t\t\t\t\t\t\t\t\t\t>Home</a>\t\t\t\t\t</li>\t\t\t\t\t\t\t\t\t\t\t\t\t\t\t\t\t\t\t\t\t\t\t\t\t\t\t\t\t\t\t\t\t\t\t\t\t\t\t\t\t\t\t\t\t\t\t\t\t\t\t\t\t\t\t\t\t\t\t\t\t\t\t\t\t\t\t\t\t\t\t\t\t\t\t\t\t\t\t\t\t\t\t\t<li>\t\t\t\t\t\t\t\t\t\t\t\t\t\t\t\t<a title=\"Rates\" href=\"/maybank2u/malaysia/en/personal/rates/rates_listing.page?\" target=\"\" >Rates</a>\t\t\t\t\t\t\t</li>\t\t\t\t\t\t\t\t\t\t\t\t\t\t\t\t\t\t\t\t\t\t\t\t\t\t\t\t\t\t\t\t\t<li>Gold & Silver Counter Rates</li>\t\t\t\t\t\t\t\t\t\t\t\t\t\t\t\t\t\t</ol>\t\t</div>\t<div class=\"relative-links\">\t\t\t<div class=\"row\"><div class=\"col-sm-2\"><div class=\"group-link\"><h3>Open An Account</h3><div class=\"collapse-content\"><ul><li><a title=\"Savings Account\" href=\"/maybank2u/malaysia/en/personal/accounts/savings_account_listing.page?\" target=\"\" >Savings Account</a></li><li><a title=\"Current Account\" href=\"/maybank2u/malaysia/en/personal/accounts/current_account_listing.page?\" target=\"\" >Current Account</a></li><li><a title=\"Fixed Deposit\" href=\"/maybank2u/malaysia/en/personal/accounts/fixed_deposit_listing.page?\" target=\"\" >Fixed Deposit</a></li><li><a title=\"Mudarabah IA\" href=\"/maybank2u/malaysia/en/personal/accounts/mudarabah_ia_listing.page?\" target=\"\" >Mudarabah IA</a></li><li><a title=\"Maybank One Solution\" href=\"/maybank2u/malaysia/en/personal/accounts/maybank_one_solution/maybank_one_solution.page?\" target=\"\" >Maybank One Solution</a></li><li><a title=\"Account Portability\" href=\"/maybank2u/malaysia/en/personal/accounts/acctswitch/acctswitch.page?\" target=\"\" >Account Portability</a></li><li><a title=\"PIDM's DIS Brochure\" href=\"https://www.maybank2u.com.my/iwov-resources/pdf/personal/accounts/pidm_dis_all.pdf\" target=\"_blank\" >PIDM's DIS Brochure</a></li><li><a title=\"List of Insured Deposits\" href=\"https://www.maybank2u.com.my/iwov-resources/pdf/personal/accounts/pidm_insured_deposits.pdf\" target=\"_blank\" >List of Insured Deposits</a></li></ul></div></div></div><div class=\"col-sm-2\"><div class=\"group-link\"><h3>Maybank Cards</h3><div class=\"collapse-content\"><ul><li><a title=\"Credit Cards\" href=\"/maybank2u/malaysia/en/personal/cards/credit_cards_listing.page?\" target=\"\" >Credit Cards</a></li><li><a title=\"Debit Cards\" href=\"/maybank2u/malaysia/en/personal/cards/debit_cards_listing.page?\" target=\"\" >Debit Cards</a></li><li><a title=\"Charge Cards\" href=\"/maybank2u/malaysia/en/personal/cards/charge_card_listing.page?\" target=\"\" >Charge Cards</a></li><li><a title=\"Prepaid Cards\" href=\"/maybank2u/malaysia/en/personal/cards/prepaid_card_listing.page?\" target=\"\" >Prepaid Cards</a></li><li><a title=\"TreatsPoints &amp; Membership Rewards Points\" href=\"/maybank2u/malaysia/en/personal/cards/treats_rewards/treatspoints-membership-reward_listing.page?\" target=\"\" >TreatsPoints & Membership Rewards Points</a></li><li><a title=\"Features, Services &amp; Others\" href=\"/maybank2u/malaysia/en/personal/cards/features_services_listing.page?\" target=\"\" >Features, Services & Others</a></li><li><a title=\"Card Related Forms\" href=\"/maybank2u/malaysia/en/personal/cards/cards_related/card_related.page?\" target=\"\" >Card Related Forms</a></li></ul></div></div></div><div class=\"col-sm-2\"><div class=\"group-link\"><h3>Loans</h3><div class=\"collapse-content\"><ul><li><a title=\"Hire Purchase Loans\" href=\"/maybank2u/malaysia/en/personal/loans/hire_purchase_loan_listing.page?\" target=\"\" >Hire Purchase Loans</a></li><li><a title=\"Personal Loan\" href=\"/maybank2u/malaysia/en/personal/loans/personal_loan_listing.page?\" target=\"\" >Personal Loan</a></li><li><a title=\"Home Loans\" href=\"/maybank2u/malaysia/en/personal/loans/home_loan_listing.page?\" target=\"\" >Home Loans</a></li><li><a title=\"Investment Loans\" href=\"/maybank2u/malaysia/en/personal/loans/investment_loan_listing.page?\" target=\"\" >Investment Loans</a></li><li><a title=\"Education Loan\" href=\"/maybank2u/malaysia/en/personal/loans/education/education_loan.page?\" target=\"\" >Education Loan</a></li><li><a title=\"Other Loans\" href=\"/maybank2u/malaysia/en/personal/loans/other_loans_listing.page?\" target=\"\" >Other Loans</a></li><li><a title=\"Refinance\" href=\"/maybank2u/malaysia/en/personal/loans/refinance_listing.page?\" target=\"\" >Refinance</a></li></ul></div></div></div><div class=\"col-sm-2\"><div class=\"group-link\"><h3>Insurance</h3><div class=\"collapse-content\"><ul><li><a title=\"Personal Accident\" href=\"/maybank2u/malaysia/en/personal/insurance/personal_accident_listing.page?\" target=\"\" >Personal Accident</a></li><li><a title=\"Car\" href=\"/maybank2u/malaysia/en/personal/insurance/car_travel_listing.page?\" target=\"\" >Car</a></li><li><a title=\"Travel\" href=\"/maybank2u/malaysia/en/personal/insurance/travel_insurance_and_takaful_listing.page?\" target=\"\" >Travel</a></li><li><a title=\"Retirement\" href=\"/maybank2u/malaysia/en/personal/insurance/retirement_listing.page?\" target=\"\" >Retirement</a></li><li><a title=\"Education\" href=\"/maybank2u/malaysia/en/personal/insurance/education_listing.page?\" target=\"\" >Education</a></li><li><a title=\"Home Insurance\" href=\"/maybank2u/malaysia/en/personal/insurance/home_listing.page?\" target=\"\" >Home Insurance</a></li><li><a title=\"Fund Fact Sheets\" href=\"/maybank2u/malaysia/en/personal/insurance/fund_fact_sheets/fund_fact_sheets.page?\" target=\"\" >Fund Fact Sheets</a></li><li><a title=\"Business\" href=\"/maybank2u/malaysia/en/personal/insurance/business_listing.page?\" target=\"\" >Business</a></li><li><a title=\"Medical\" href=\"/maybank2u/malaysia/en/personal/insurance/medical_listing.page?\" target=\"\" >Medical</a></li></ul></div></div></div><div class=\"col-sm-2\"><div class=\"group-link\"><h3>Wealth</h3><div class=\"collapse-content\"><ul><li><a title=\"Islamic Wealth Management\" href=\"/maybank2u/malaysia/en/personal/wealth/iwm/islamic_wealth_management.page?\" target=\"\" >Islamic Wealth Management</a></li><li><a title=\"Financial Goal Simulator\" href=\"/maybank2u/malaysia/en/personal/wealth/digital_wealth/financialgoalsimulator.page?\" target=\"\" >Financial Goal Simulator</a></li><li><a title=\"Sukuk Prihatin\" href=\"/maybank2u/malaysia/en/personal/wealth/sukuk_prihatin.page?\" target=\"\" >Sukuk Prihatin</a></li><li><a title=\"Share Trading\" href=\"/maybank2u/malaysia/en/personal/wealth/share_trading/share_trading_listing.page?\" target=\"\" >Share Trading</a></li><li><a title=\"Gold &amp; Silver\" href=\"/maybank2u/malaysia/en/personal/wealth/gold_silver/gold_silver_listing.page?\" target=\"\" >Gold & Silver</a></li><li><a title=\"ASNB\" href=\"/maybank2u/malaysia/en/personal/wealth/asnb/asnb_listing.page?\" target=\"\" >ASNB</a></li><li><a title=\"Unit Trusts\" href=\"/maybank2u/malaysia/en/personal/wealth/unit_trusts/unit_trusts.page?\" target=\"\" >Unit Trusts</a></li><li><a title=\"Bonds / Sukuk\" href=\"/maybank2u/malaysia/en/personal/wealth/bonds_sukuk/bonds_sukuk.page?\" target=\"\" >Bonds / Sukuk</a></li><li><a title=\"Structured Investment\" href=\"/maybank2u/malaysia/en/personal/wealth/structured_investments/digital_memory_deposit_tranche_5.page?\" target=\"\" >Structured Investment</a></li><li><a title=\"Bull Equity Linked Investment Note\" href=\"/maybank2u/malaysia/en/personal/wealth/bull_equity/bull_equity_linked_investment_note.page?\" target=\"\" >Bull Equity Linked Investment Note</a></li><li><a title=\"Foreign Currency\" href=\"/maybank2u/malaysia/en/personal/wealth/foreign_currency/foreign_currency_listing.page?\" target=\"\" >Foreign Currency</a></li><li><a title=\"Wills &amp; Trusts\" href=\"/maybank2u/malaysia/en/personal/wealth/wills_trusts/wills_trusts_listing.page?\" target=\"\" >Wills & Trusts</a></li></ul></div></div></div><div class=\"col-sm-2\"><div class=\"group-link\"><h3>Services</h3><div class=\"collapse-content\"><ul><li><a title=\"Digital Products &amp; Services\" href=\"/maybank2u/malaysia/en/personal/services/digital_banking_listing.page?\" target=\"\" >Digital Products & Services</a></li><li><a title=\"In Branch\" href=\"/maybank2u/malaysia/en/personal/services/in_branch/daily_banking.page?\" target=\"\" >In Branch</a></li><li><a title=\"Phone Banking\" href=\"/maybank2u/malaysia/en/personal/services/phone_banking/phone_banking.page?\" target=\"\" >Phone Banking</a></li><li><a title=\"Agent Banking\" href=\"/maybank2u/malaysia/en/personal/services/agent_banking/agent_banking.page?\" target=\"\" >Agent Banking</a></li><li><a title=\"Overseas Services\" href=\"/maybank2u/malaysia/en/personal/services/overseas_services_listing.page?\" target=\"\" >Overseas Services</a></li><li><a title=\"Funds Transfer\" href=\"/maybank2u/malaysia/en/personal/services/funds_transfer_listing.page?\" target=\"\" >Funds Transfer</a></li><li><a title=\"Tabung Haji\" href=\"/maybank2u/malaysia/en/personal/services/tabung_haji/tabung_haji.page?\" target=\"\" >Tabung Haji</a></li><li><a title=\"Be a Maybank Merchant\" href=\"https://m2upay.maybank2u.com.my/\" target=\"_blank\" >Be a Maybank Merchant</a></li></ul></div></div></div></div><div class=\"row\"><div class=\"col-sm-2\"><div class=\"group-link\"><h3>Others</h3><div class=\"collapse-content\"><ul><li><a title=\"Promotions\" href=\"/maybank2u/malaysia/en/personal/promotions/promotion_listing.page?\" target=\"\" >Promotions</a></li><li><a title=\"Announcements\" href=\"/maybank2u/malaysia/en/personal/announcements/announcement_listing.page?\" target=\"\" >Announcements</a></li><li><a title=\"Contact Us\" href=\"/maybank2u/malaysia/en/personal/about_us/contact_us.page?\" target=\"\" >Contact Us</a></li><li><a title=\"Locate Us\" href=\"/maybank2u/malaysia/en/personal/about_us/locate_maybank.page?\" target=\"\" >Locate Us</a></li><li><a title=\"Security Awareness\" href=\"/maybank2u/malaysia/en/personal/security_alert/security_alert_listing.page?\" target=\"\" >Security Awareness</a></li><li><a title=\"Banking Fees\" href=\"/maybank2u/malaysia/en/personal/banking_fees/banking_fees.page?\" target=\"\" >Banking Fees</a></li><li><a title=\"Maybank Auction\" href=\"/maybank2u/malaysia/en/personal/others/maybank_auction.page?\" target=\"\" >Maybank Auction</a></li><li><a title=\"Maybank Group Whistleblowing Policy\" href=\"/maybank2u/malaysia/en/personal/others/whistleblowing.page?\" target=\"\" >Maybank Group Whistleblowing Policy</a></li></ul></div></div></div><div class=\"col-sm-2\"><div class=\"group-link no-collapse\"><h3><a title=\"Trade Online\" href=\"https://ost.maybank2u.com.my/mbbwecos/mbb_login.aspx\" target=\"_blank\" >Trade Online</a></h3><h3><a title=\"Maybank Privilege\" href=\"/maybank2u/malaysia/en/personal/privilege/privilege_landing.page?\" target=\"_blank\" >Maybank Privilege</a></h3><h3><a title=\"Maybank Premier\" href=\"http://www.maybankpremierwealth.com\" target=\"_blank\" >Maybank Premier</a></h3><h3><a title=\"Maybank Private\" href=\"http://www.maybankprivatewealth.com\" target=\"_blank\" >Maybank Private</a></h3></div></div></div>\t\t\t\t\t<ul class=\"social-sharing full\">\t\t\t\t\t\t\t<li>\t\t\t\t\t<a title=\"Facebook\" href=\"https://www.facebook.com/Maybank/\" target=\"_blank\" rel=\"external\" class=\"facebook\"></a>\t\t\t\t</li>\t\t\t\t\t\t\t<li>\t\t\t\t\t<a title=\"Twitter\" href=\"https://twitter.com/mymaybank\" target=\"_blank\" rel=\"external\" class=\"twitter\"></a>\t\t\t\t</li>\t\t\t\t\t\t\t<li>\t\t\t\t\t<a title=\"Instagram\" href=\"https://www.instagram.com/mymaybank/\" target=\"_blank\" rel=\"external\" class=\"instagram\"></a>\t\t\t\t</li>\t\t\t\t\t\t\t<li>\t\t\t\t\t<a title=\"Youtube\" href=\"https://www.youtube.com/user/MaybankVideos\" target=\"_blank\" rel=\"external\" class=\"youtube\"></a>\t\t\t\t</li>\t\t\t\t\t\t\t<li>\t\t\t\t\t<a title=\"WeChat\" href=\"https://www.maybank2u.com.my/WebBank/qrcode_WeChat.pdf\" target=\"_blank\" rel=\"external\" class=\"wechat\"></a>\t\t\t\t</li>\t\t\t\t\t</ul>\t</div><div class=\"bottom-footer\">\t\t\t<ul class=\"policy-links\">\t\t\t\t\t\t\t<li>\t\t\t\t\t<a title=\"FREQUENTLY ASKED QUESTIONS\" href=\"/maybank2u/malaysia/en/personal/frequent_queries/m2u_first_time_registration/how_to_register_for_a_new_maybank2u_account.page?\" >FREQUENTLY ASKED QUESTIONS</a>\t\t\t\t</li>\t\t\t\t\t\t\t<li>\t\t\t\t\t<a title=\"RATES\" href=\"/maybank2u/malaysia/en/personal/rates/rates_listing.page?\" >RATES</a>\t\t\t\t</li>\t\t\t\t\t\t\t<li>\t\t\t\t\t<a title=\"CUSTOMER SERVICE CHARTER\" href=\"http://www.maybank2u.com.my/iwov-resources/pdf/client_charter/custcharter_021211.pdf\" target=\"_blank\" rel=\"external\" >CUSTOMER SERVICE CHARTER</a>\t\t\t\t</li>\t\t\t\t\t\t\t<li>\t\t\t\t\t<a title=\"BUSINESS ETHICS CHARTER\" href=\"https://www.maybank2u.com.my/iwov-resources/pdf/client_charter/business-ethics-charter.pdf\" target=\"_blank\" rel=\"external\" >BUSINESS ETHICS CHARTER</a>\t\t\t\t</li>\t\t\t\t\t\t\t<li>\t\t\t\t\t<a title=\"CORPORATE GOVERNANCE\" href=\"https://www.maybank.com/corporate-profile/compliance\" target=\"_blank\" rel=\"external\" >CORPORATE GOVERNANCE</a>\t\t\t\t</li>\t\t\t\t\t\t\t<li>\t\t\t\t\t<a title=\"SECURITY AND PRIVACY\" href=\"/maybank2u/malaysia/en/personal/security_privacy/security_statement.page?\" >SECURITY AND PRIVACY</a>\t\t\t\t</li>\t\t\t\t\t\t\t<li>\t\t\t\t\t<a title=\"TERMS AND CONDITIONS\" href=\"/maybank2u/malaysia/en/personal/tnc/general_term_and_condition.page?\" >TERMS AND CONDITIONS</a>\t\t\t\t</li>\t\t\t\t\t</ul>\t\t\t\t<p class=\"copy-rights\"><p class=\"copy-right\">&copy; 2022&nbsp;<a href=\"http://www.maybank.com\" target=\"_blank\">Malayan Banking Berhad</a> (Co.Reg.No. :196001000142)&nbsp;<a href=\"https://www.maybank.com/islamic\">Maybank Islamic Berhad</a> (Co. Reg. No: 200701029411).&nbsp;All rights reserved.</p></p>\t\t<div class=\"browser\">\t\t<span>Best viewed on the latest versions of Chrome, Firefox, Edge, Safari.</span>\t</div></div>\t<div class=\"partner\">\t\t<ul>\t\t\t\t\t\t\t<li>\t\t\t\t\t<a title=\"Bank Negara Malaysia\" href=\"http://www.bnm.gov.my/\" target=\"_blank\" rel=\"external\" class=\"bank-negara\"></a>\t\t\t\t</li>\t\t\t\t\t\t\t<li>\t\t\t\t\t<a title=\"Banking Info\" href=\"http://www.bankinginfo.com.my\" target=\"_blank\" rel=\"external\" class=\"banking-info\"></a>\t\t\t\t</li>\t\t\t\t\t\t\t<li>\t\t\t\t\t<a title=\"Insurance Info\" href=\"http://www.insuranceinfo.com.my\" target=\"_blank\" rel=\"external\" class=\"insurance-info\"></a>\t\t\t\t</li>\t\t\t\t\t\t\t<li>\t\t\t\t\t<a title=\"OMBUDSMAN for Financial Services\" href=\"https://www.ofs.org.my/en/\" target=\"_blank\" rel=\"external\" class=\"ofs\"></a>\t\t\t\t</li>\t\t\t\t\t\t\t<li>\t\t\t\t\t<a title=\"SMEinfo\" href=\"http://www.smeinfo.com.my\" target=\"_blank\" rel=\"external\" class=\"smeinfo\"></a>\t\t\t\t</li>\t\t\t\t\t\t\t<li>\t\t\t\t\t<a title=\"Perbadanan Insurans Deposit Malaysia\" href=\"http://www.pidm.gov.my\" target=\"_blank\" rel=\"external\" class=\"pidm\"></a>\t\t\t\t</li>\t\t\t\t\t\t\t<li>\t\t\t\t\t<a title=\"Agensi Kaunseling Dan Pengurusan Kredit (AKPK)\" href=\"http://www.akpk.org.my\" target=\"_blank\" rel=\"external\" class=\"akpk\"></a>\t\t\t\t</li>\t\t\t\t\t\t\t<li>\t\t\t\t\t<a title=\"Malaysia International Islamic Financial Centre (MIFC)\" href=\"http://www.mifc.com\" target=\"_blank\" rel=\"external\" class=\"mifc\"></a>\t\t\t\t</li>\t\t\t\t\t\t\t<li>\t\t\t\t\t<a title=\"Islamic Banking and Finance Institute Malaysia\" href=\"http://www.ibfim.com\" target=\"_blank\" rel=\"external\" class=\"ibfim\"></a>\t\t\t\t</li>\t\t\t\t\t\t\t<li>\t\t\t\t\t<a title=\"myBayar\" href=\"https://mybayar.gov.my\" target=\"_blank\" rel=\"external\" class=\"mybayar\"></a>\t\t\t\t</li>\t\t\t\t\t\t\t<li>\t\t\t\t\t<a title=\"The Global University in Islamic Finance\" href=\"http://www.inceif.org\" target=\"_blank\" rel=\"external\" class=\"inceif\"></a>\t\t\t\t</li>\t\t\t\t\t\t\t<li>\t\t\t\t\t<a title=\"Investment Account Platform\" href=\"https://iaplatform.com\" target=\"_blank\" rel=\"external\" class=\"investment-account\"></a>\t\t\t\t</li>\t\t\t\t\t\t\t<li>\t\t\t\t\t<a title=\"MEPS\" href=\"http://www.meps.com.my/\" target=\"_blank\" rel=\"external\" class=\"meps\"></a>\t\t\t\t</li>\t\t\t\t\t\t\t<li>\t\t\t\t\t<a title=\"Meps Shared ATM Network\" href=\"http://www.mepsatm.com.my/\" target=\"_blank\" rel=\"external\" class=\"meps-atm\"></a>\t\t\t\t</li>\t\t\t\t\t\t\t<li>\t\t\t\t\t<a title=\"Housing Watch\" href=\"http://www.housingwatch.my/\" target=\"_blank\" rel=\"external\" class=\"housing-watch\"></a>\t\t\t\t</li>\t\t\t\t\t\t\t<li>\t\t\t\t\t<a title=\"My Wakaf\" href=\"https://www.mywakaf.com.my/\" target=\"_blank\" rel=\"external\" class=\"wakaf\"></a>\t\t\t\t</li>\t\t\t\t\t\t\t<li>\t\t\t\t\t<a title=\"Secure Logic\" href=\"https://portal.3sisecure.com/images/pcs/52D0C14D-2365-4EAF-9875-0C3C6302CC80.html\" target=\"_blank\" rel=\"external\" class=\"secure-logic\"></a>\t\t\t\t</li>\t\t\t\t\t</ul>\t</div><script src=\"/iwov-resources/js/oldbrowser.js\"></script><script>$( document ).ready(function() {    $(\".copy-rights\").remove(\"p\");});</script>  </section>\n",
            "</footer><!--ls:end[component-1505554980947]--> \n",
            "   </div> \n",
            "  </div> \n",
            " </div> \n",
            "</div> \n",
            "<div class=\"container-fluid iw_section\" id=\"sectionj7n4ka54\"> \n",
            " <div class=\"row iw_row iw_stretch\" id=\"rowj7n4ka55\"> \n",
            "  <div class=\"iw_columns col-lg-12\" id=\"colj7n4ka56\"> \n",
            "   <div class=\"iw_component\" id=\"iw_comp1505554980951\">\n",
            "     <?xml version=\"1.0\" encoding=\"UTF-8\"?>\n",
            " <div class=\"sticky-footer\">\t<ul class=\"quick-footer-links\">\t\t\t\t\t<li>\t\t\t\t\t\t\t\t\t<a href=\"https://www.maybank2u.com.my/maybank2u/malaysia/en/personal/announcements/2020/March/announcement_financial_relief_scheme.page\" title=\"Covid-19 Assistance\">\t\t\t\t\t\t<span><i class=\"icon icon-covid19\"></i></span>\t\t\t\t\t\t<span>Covid-19 Assistance</span>\t\t\t\t\t</a>\t\t\t\t\t\t\t</li>\t\t\t\t\t<li>\t\t\t\t\t\t\t\t\t<a href=\"https://www.maybank2u.com.my/iwov-resources/pdf/personal/announcement/2020/Mbb-Branch-List_Covid-19.pdf\" title=\"Operating Branches\">\t\t\t\t\t\t<span><i class=\"icon icon-branches\"></i></span>\t\t\t\t\t\t<span>Operating Branches</span>\t\t\t\t\t</a>\t\t\t\t\t\t\t</li>\t\t\t\t\t<li>\t\t\t\t\t\t\t\t\t<a href=\"https://www.maybank2u.com.my/page/appointment/\" title=\"EzyQ\">\t\t\t\t\t\t<span><i class=\"icon icon-ezyq\"></i></span>\t\t\t\t\t\t<span>EzyQ</span>\t\t\t\t\t</a>\t\t\t\t\t\t\t</li>\t\t\t\t\t<li>\t\t\t\t\t\t\t\t\t<a href=\"https://www.maybank2u.com.my/maybank2u/malaysia/en/personal/accounts/accounts_landing.page?\" title=\"Open Account\">\t\t\t\t\t\t<span><i class=\"icon icon-accounts\"></i></span>\t\t\t\t\t\t<span>Open Account</span>\t\t\t\t\t</a>\t\t\t\t\t\t\t</li>\t\t\t\t\t<li>\t\t\t\t\t\t\t\t\t<a href=\"https://www.maybank2u.com.my/maybank2u/malaysia/en/personal/insurance/insurance_landing.page?\" title=\"Insurance\">\t\t\t\t\t\t<span><i class=\"icon icon-insurance\"></i></span>\t\t\t\t\t\t<span>Insurance</span>\t\t\t\t\t</a>\t\t\t\t\t\t\t</li>\t\t\t\t\t<li>\t\t\t\t\t\t\t\t\t<a href=\"https://www.maybank2u.com.my/maybank2u/malaysia/en/personal/cards/cards_landing.page?\" title=\"Maybank Cards\">\t\t\t\t\t\t<span><i class=\"icon icon-cards\"></i></span>\t\t\t\t\t\t<span>Maybank Cards</span>\t\t\t\t\t</a>\t\t\t\t\t\t\t</li>\t\t\t\t\t<li>\t\t\t\t\t\t\t\t\t<a href=\"https://www.maybank2u.com.my/maybank2u/malaysia/en/personal/loans/loans_landing.page?\" title=\"Get a Loan \">\t\t\t\t\t\t<span><i class=\"icon icon-loans\"></i></span>\t\t\t\t\t\t<span>Get a Loan </span>\t\t\t\t\t</a>\t\t\t\t\t\t\t</li>\t\t\t\t\t<li>\t\t\t\t\t\t\t\t\t<a href=\"https://ost.maybank2u.com.my/mbbwecos/mbb_login.aspx\" title=\"Trade Online\" target=\"_blank\">\t\t\t\t\t\t<span><i class=\"icon icon-online-stock\"></i></span>\t\t\t\t\t\t<span>Trade Online</span>\t\t\t\t\t</a>\t\t\t\t\t\t\t</li>\t\t\t</ul></div> \n",
            "   </div> \n",
            "  </div> \n",
            " </div> \n",
            "</div></div><!--ls:end[body]--><!--ls:begin[page_track]--><!--ls:end[page_track]--></body>\n",
            "</html>\n",
            "\n"
          ]
        }
      ]
    },
    {
      "cell_type": "code",
      "source": [
        "# getting Maybank Islamic Gold Account-i (MIGA-i)\n",
        "soup = bs(page)\n",
        "values = soup.body.findAll('td')\n",
        "#print(values[15:])\n",
        "\n",
        "goldValues = []\n",
        "\n",
        "for item in values[15:]:\n",
        "  item = item.text\n",
        "  goldValues.append(item)\n",
        "\n",
        "sellingValue = goldValues[1]\n",
        "buyingValue = goldValues[2]\n",
        "  \n",
        "print(goldValues)\n",
        "print(sellingValue)\n",
        "print(buyingValue)"
      ],
      "metadata": {
        "colab": {
          "base_uri": "https://localhost:8080/"
        },
        "id": "dzATxLCrgm-A",
        "outputId": "0d860173-12bc-4533-f532-415ce8f2566e"
      },
      "execution_count": 4,
      "outputs": [
        {
          "output_type": "stream",
          "name": "stdout",
          "text": [
            "['For 100 grams and above', '252.08', '248.00', 'For below 100 grams ', '253.83', '247.50']\n",
            "252.08\n",
            "248.00\n"
          ]
        }
      ]
    },
    {
      "cell_type": "code",
      "source": [
        "#get the date\n",
        "desc = soup.body.findAll('p', attrs={'class': 'text-small'})\n",
        "targetDesc = desc[-1].text\n",
        "targetDatetime = targetDesc.replace('Effective on ','')\n",
        "\n",
        "print(targetDesc)\n",
        "print(targetDatetime)"
      ],
      "metadata": {
        "colab": {
          "base_uri": "https://localhost:8080/"
        },
        "id": "l9ZYieqQmNEU",
        "outputId": "55c8b8ee-32dc-4c31-d7c6-aa07584c983c"
      },
      "execution_count": 5,
      "outputs": [
        {
          "output_type": "stream",
          "name": "stdout",
          "text": [
            "Effective on 08 Sep 2022 08:46:29\n",
            "08 Sep 2022 08:46:29\n"
          ]
        }
      ]
    },
    {
      "cell_type": "code",
      "source": [
        "#create a dataframe\n",
        "data = pd.DataFrame({'DateTime': targetDatetime, 'Selling': sellingValue, 'Buying': buyingValue, 'Description': targetDesc}, index=[0])\n",
        "#data\n",
        "data.dtypes\n",
        "\n",
        "data = data.astype({'Selling':'float', 'Buying':'float'})\n",
        "data['DateTime'] = pd.to_datetime(data['DateTime'])\n",
        "data = data.rename_axis('No')\n",
        "data.dtypes\n",
        "data"
      ],
      "metadata": {
        "colab": {
          "base_uri": "https://localhost:8080/",
          "height": 112
        },
        "id": "_HXQnA2Ln5L-",
        "outputId": "4449b5fd-fbdf-4402-bd2e-bd1369c0b43a"
      },
      "execution_count": 65,
      "outputs": [
        {
          "output_type": "execute_result",
          "data": {
            "text/plain": [
              "              DateTime  Selling  Buying                        Description\n",
              "No                                                                        \n",
              "0  2022-09-08 08:46:29   252.08   248.0  Effective on 08 Sep 2022 08:46:29"
            ],
            "text/html": [
              "\n",
              "  <div id=\"df-745d07ca-b68a-4b89-ac32-b8c69f3bc37f\">\n",
              "    <div class=\"colab-df-container\">\n",
              "      <div>\n",
              "<style scoped>\n",
              "    .dataframe tbody tr th:only-of-type {\n",
              "        vertical-align: middle;\n",
              "    }\n",
              "\n",
              "    .dataframe tbody tr th {\n",
              "        vertical-align: top;\n",
              "    }\n",
              "\n",
              "    .dataframe thead th {\n",
              "        text-align: right;\n",
              "    }\n",
              "</style>\n",
              "<table border=\"1\" class=\"dataframe\">\n",
              "  <thead>\n",
              "    <tr style=\"text-align: right;\">\n",
              "      <th></th>\n",
              "      <th>DateTime</th>\n",
              "      <th>Selling</th>\n",
              "      <th>Buying</th>\n",
              "      <th>Description</th>\n",
              "    </tr>\n",
              "    <tr>\n",
              "      <th>No</th>\n",
              "      <th></th>\n",
              "      <th></th>\n",
              "      <th></th>\n",
              "      <th></th>\n",
              "    </tr>\n",
              "  </thead>\n",
              "  <tbody>\n",
              "    <tr>\n",
              "      <th>0</th>\n",
              "      <td>2022-09-08 08:46:29</td>\n",
              "      <td>252.08</td>\n",
              "      <td>248.0</td>\n",
              "      <td>Effective on 08 Sep 2022 08:46:29</td>\n",
              "    </tr>\n",
              "  </tbody>\n",
              "</table>\n",
              "</div>\n",
              "      <button class=\"colab-df-convert\" onclick=\"convertToInteractive('df-745d07ca-b68a-4b89-ac32-b8c69f3bc37f')\"\n",
              "              title=\"Convert this dataframe to an interactive table.\"\n",
              "              style=\"display:none;\">\n",
              "        \n",
              "  <svg xmlns=\"http://www.w3.org/2000/svg\" height=\"24px\"viewBox=\"0 0 24 24\"\n",
              "       width=\"24px\">\n",
              "    <path d=\"M0 0h24v24H0V0z\" fill=\"none\"/>\n",
              "    <path d=\"M18.56 5.44l.94 2.06.94-2.06 2.06-.94-2.06-.94-.94-2.06-.94 2.06-2.06.94zm-11 1L8.5 8.5l.94-2.06 2.06-.94-2.06-.94L8.5 2.5l-.94 2.06-2.06.94zm10 10l.94 2.06.94-2.06 2.06-.94-2.06-.94-.94-2.06-.94 2.06-2.06.94z\"/><path d=\"M17.41 7.96l-1.37-1.37c-.4-.4-.92-.59-1.43-.59-.52 0-1.04.2-1.43.59L10.3 9.45l-7.72 7.72c-.78.78-.78 2.05 0 2.83L4 21.41c.39.39.9.59 1.41.59.51 0 1.02-.2 1.41-.59l7.78-7.78 2.81-2.81c.8-.78.8-2.07 0-2.86zM5.41 20L4 18.59l7.72-7.72 1.47 1.35L5.41 20z\"/>\n",
              "  </svg>\n",
              "      </button>\n",
              "      \n",
              "  <style>\n",
              "    .colab-df-container {\n",
              "      display:flex;\n",
              "      flex-wrap:wrap;\n",
              "      gap: 12px;\n",
              "    }\n",
              "\n",
              "    .colab-df-convert {\n",
              "      background-color: #E8F0FE;\n",
              "      border: none;\n",
              "      border-radius: 50%;\n",
              "      cursor: pointer;\n",
              "      display: none;\n",
              "      fill: #1967D2;\n",
              "      height: 32px;\n",
              "      padding: 0 0 0 0;\n",
              "      width: 32px;\n",
              "    }\n",
              "\n",
              "    .colab-df-convert:hover {\n",
              "      background-color: #E2EBFA;\n",
              "      box-shadow: 0px 1px 2px rgba(60, 64, 67, 0.3), 0px 1px 3px 1px rgba(60, 64, 67, 0.15);\n",
              "      fill: #174EA6;\n",
              "    }\n",
              "\n",
              "    [theme=dark] .colab-df-convert {\n",
              "      background-color: #3B4455;\n",
              "      fill: #D2E3FC;\n",
              "    }\n",
              "\n",
              "    [theme=dark] .colab-df-convert:hover {\n",
              "      background-color: #434B5C;\n",
              "      box-shadow: 0px 1px 3px 1px rgba(0, 0, 0, 0.15);\n",
              "      filter: drop-shadow(0px 1px 2px rgba(0, 0, 0, 0.3));\n",
              "      fill: #FFFFFF;\n",
              "    }\n",
              "  </style>\n",
              "\n",
              "      <script>\n",
              "        const buttonEl =\n",
              "          document.querySelector('#df-745d07ca-b68a-4b89-ac32-b8c69f3bc37f button.colab-df-convert');\n",
              "        buttonEl.style.display =\n",
              "          google.colab.kernel.accessAllowed ? 'block' : 'none';\n",
              "\n",
              "        async function convertToInteractive(key) {\n",
              "          const element = document.querySelector('#df-745d07ca-b68a-4b89-ac32-b8c69f3bc37f');\n",
              "          const dataTable =\n",
              "            await google.colab.kernel.invokeFunction('convertToInteractive',\n",
              "                                                     [key], {});\n",
              "          if (!dataTable) return;\n",
              "\n",
              "          const docLinkHtml = 'Like what you see? Visit the ' +\n",
              "            '<a target=\"_blank\" href=https://colab.research.google.com/notebooks/data_table.ipynb>data table notebook</a>'\n",
              "            + ' to learn more about interactive tables.';\n",
              "          element.innerHTML = '';\n",
              "          dataTable['output_type'] = 'display_data';\n",
              "          await google.colab.output.renderOutput(dataTable, element);\n",
              "          const docLink = document.createElement('div');\n",
              "          docLink.innerHTML = docLinkHtml;\n",
              "          element.appendChild(docLink);\n",
              "        }\n",
              "      </script>\n",
              "    </div>\n",
              "  </div>\n",
              "  "
            ]
          },
          "metadata": {},
          "execution_count": 65
        }
      ]
    },
    {
      "cell_type": "code",
      "source": [
        "#create csv file\n",
        "data.to_csv('MBB_Islamic_Gold.csv')"
      ],
      "metadata": {
        "id": "nAwDGeOLslpk"
      },
      "execution_count": 66,
      "outputs": []
    },
    {
      "cell_type": "code",
      "source": [
        "#append rows in csv\n",
        "df = pd.read_csv('MBB_Islamic_Gold.csv')\n",
        "\n",
        "#get latest row number\n",
        "#current_rows = df['No'][-1:]\n",
        "#print(type(current_rows.values[0]))\n",
        "\n",
        "# add 1  from latest row number\n",
        "#append_index = current_rows.values[0] + 1\n",
        "#print(append_index)\n",
        "\n",
        "# set index in data\n",
        "#data = data.drop('No'#)\n",
        "#data\n",
        "data.to_csv('MBB_Islamic_Gold.csv', mode='a', header=False)"
      ],
      "metadata": {
        "id": "87Pi5Eb3ta9e"
      },
      "execution_count": 70,
      "outputs": []
    },
    {
      "cell_type": "code",
      "source": [
        "#saving the dataframe to a csv file\n",
        "from google.colab import drive\n",
        "drive.mount(\"/content/drive\")"
      ],
      "metadata": {
        "colab": {
          "base_uri": "https://localhost:8080/"
        },
        "id": "bS2p8MvHEhjo",
        "outputId": "031fe10b-f8fb-4648-9818-91ff5dedba59"
      },
      "execution_count": 71,
      "outputs": [
        {
          "output_type": "stream",
          "name": "stdout",
          "text": [
            "Mounted at /content/drive\n"
          ]
        }
      ]
    },
    {
      "cell_type": "code",
      "source": [
        "data.to_csv('/content/drive/My Drive/Colab Notebooks/MBBGoldData/MBB_Islamic_Gold.csv')"
      ],
      "metadata": {
        "id": "DrAnEEe1FQ5e"
      },
      "execution_count": 75,
      "outputs": []
    },
    {
      "cell_type": "code",
      "source": [
        "#append rows in csv\n",
        "df = pd.read_csv('/content/drive/My Drive/Colab Notebooks/MBBGoldData/MBB_Islamic_Gold.csv')\n",
        "\n",
        "data.to_csv('/content/drive/My Drive/Colab Notebooks/MBBGoldData/MBB_Islamic_Gold.csv', mode='a', header=False)"
      ],
      "metadata": {
        "id": "udvWIefYFwNl"
      },
      "execution_count": 74,
      "outputs": []
    }
  ]
}